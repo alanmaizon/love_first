{
 "cells": [
  {
   "cell_type": "markdown",
   "metadata": {},
   "source": [
    "# **🔍 Django Backend Test Coverage**\n",
    "| Test  | Expected Result |\n",
    "|----------------------|----|\n",
    "| `test_list_charities` | ✅ |\n",
    "| `test_get_single_charity` | ✅ |\n",
    "| `test_create_charity_unauthorized` | ✅ |\n",
    "| `test_create_charity_authorized` | ✅ |\n",
    "| `Test Invalid Data` (missing fields, duplicates) | ✅ |\n",
    "| `Better Error Messages` | ✅ |\n",
    "| `Test Filtering/Search` | ✅ |\n",
    "| `Pagination Testing` | ✅ |\n",
    "| `Efficient Query Selection` (`only()`, `defer()`) | ✅ |\n",
    "| `Foreign Key Optimization` (`select_related`, `prefetch_related`) | ✅ |\n",
    "| `Caching` (`cache.get/set`) | ✅ |"
   ]
  },
  {
   "cell_type": "markdown",
   "metadata": {},
   "source": [
    "# **🔍 Frontend Test Coverage Overview**  \n",
    "\n",
    "## **🛠 Authentication Tests**  \n",
    "\n",
    "| **Test** | **Expected Result** |  \n",
    "|----------|----------------------|  \n",
    "| **Signup Form - Rendering** | Should render the signup form with username, email, and password fields, along with a register button. |  \n",
    "| **Signup Form - Input Handling** | Should allow the user to type into the username, email, and password fields and update their values accordingly. |  \n",
    "| **Signup Form - Submission Flow** | Should call the API to register the user, then log in and navigate to the private page upon success. |  \n",
    "| **Login Form - Rendering** | Should render the login form with username and password fields, along with a login button. |  \n",
    "| **Login Form - Input Handling** | Should allow the user to type into the username and password fields and update their values accordingly. |  \n",
    "| **Login Form - Submission Flow** | Should call the API to log in the user and navigate to the private page upon success. |  \n",
    "| **Logout Flow** | Should remove the access and refresh tokens from authentication context and redirect the user to the login page. |  \n",
    "\n",
    "## **💳 Donation Tests**  \n",
    "\n",
    "| **Test** | **Expected Result** |  \n",
    "|----------|----------------------|  \n",
    "| **DonationService - createStripeCheckout** | Should send a POST request to `/api/stripe/checkout/` with amount and selected charities, returning a session ID and Stripe URL. |  \n",
    "| **DonationService - createPayPalPayment** | Should send a POST request to `/api/paypal/payment/` with amount and selected charities, returning a PayPal URL. |  \n",
    "\n",
    "---"
   ]
  }
 ],
 "metadata": {
  "language_info": {
   "name": "python"
  }
 },
 "nbformat": 4,
 "nbformat_minor": 2
}
